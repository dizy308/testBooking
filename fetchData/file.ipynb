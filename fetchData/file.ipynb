{
 "cells": [
  {
   "cell_type": "code",
   "execution_count": 1,
   "id": "11fab805",
   "metadata": {},
   "outputs": [],
   "source": [
    "import requests\n",
    "import pandas as pd"
   ]
  },
  {
   "cell_type": "code",
   "execution_count": 5,
   "id": "39fa4fa3",
   "metadata": {},
   "outputs": [],
   "source": [
    "url = \"http://127.0.0.1:8000/apipolls/booking/update/45\""
   ]
  },
  {
   "cell_type": "code",
   "execution_count": 6,
   "id": "38821f08",
   "metadata": {},
   "outputs": [],
   "source": [
    "fetch_data = requests.get(url)"
   ]
  },
  {
   "cell_type": "code",
   "execution_count": 14,
   "id": "e277593f",
   "metadata": {},
   "outputs": [
    {
     "data": {
      "text/plain": [
       "{'id': 45,\n",
       " 'court': 3,\n",
       " 'customer_num': 'QUAN CHUON 2',\n",
       " 'booking_date': '2025-07-20',\n",
       " 'start_time': '11:00:00',\n",
       " 'end_time': '13:00:00',\n",
       " 'start_time_decimal': '11.00',\n",
       " 'end_time_decimal': '13.00',\n",
       " 'day_of_week': 'T8'}"
      ]
     },
     "execution_count": 14,
     "metadata": {},
     "output_type": "execute_result"
    }
   ],
   "source": [
    "data_ = fetch_data.json()\n",
    "data_"
   ]
  },
  {
   "cell_type": "code",
   "execution_count": 15,
   "id": "290281b7",
   "metadata": {},
   "outputs": [],
   "source": [
    "data_['customer_num'] = 'DIZY TA'"
   ]
  },
  {
   "cell_type": "code",
   "execution_count": 16,
   "id": "e6950a23",
   "metadata": {},
   "outputs": [
    {
     "data": {
      "text/plain": [
       "{'id': 45,\n",
       " 'court': 3,\n",
       " 'customer_num': 'DIZY TA',\n",
       " 'booking_date': '2025-07-20',\n",
       " 'start_time': '11:00:00',\n",
       " 'end_time': '13:00:00',\n",
       " 'start_time_decimal': '11.00',\n",
       " 'end_time_decimal': '13.00',\n",
       " 'day_of_week': 'T8'}"
      ]
     },
     "execution_count": 16,
     "metadata": {},
     "output_type": "execute_result"
    }
   ],
   "source": [
    "data_"
   ]
  },
  {
   "cell_type": "code",
   "execution_count": 17,
   "id": "3c031e74",
   "metadata": {},
   "outputs": [
    {
     "data": {
      "text/plain": [
       "<Response [200]>"
      ]
     },
     "execution_count": 17,
     "metadata": {},
     "output_type": "execute_result"
    }
   ],
   "source": [
    "requests.put(url, json=data_)"
   ]
  },
  {
   "cell_type": "code",
   "execution_count": null,
   "id": "0cd43bff",
   "metadata": {},
   "outputs": [],
   "source": []
  }
 ],
 "metadata": {
  "kernelspec": {
   "display_name": "base",
   "language": "python",
   "name": "python3"
  },
  "language_info": {
   "codemirror_mode": {
    "name": "ipython",
    "version": 3
   },
   "file_extension": ".py",
   "mimetype": "text/x-python",
   "name": "python",
   "nbconvert_exporter": "python",
   "pygments_lexer": "ipython3",
   "version": "3.12.4"
  }
 },
 "nbformat": 4,
 "nbformat_minor": 5
}
