{
 "cells": [
  {
   "cell_type": "code",
   "execution_count": null,
   "id": "11fab805",
   "metadata": {},
   "outputs": [],
   "source": [
    "import requests\n",
    "import pandas as pd"
   ]
  },
  {
   "cell_type": "code",
   "execution_count": null,
   "id": "39fa4fa3",
   "metadata": {},
   "outputs": [],
   "source": [
    "url = \"http://127.0.0.1:8000/apipolls/\""
   ]
  },
  {
   "cell_type": "code",
   "execution_count": null,
   "id": "6831e292",
   "metadata": {},
   "outputs": [],
   "source": [
    "data_input = {\n",
    "    'question_text':'Ta Dinh Duy',\n",
    "    'start_date_play':'2025-07-01',\n",
    "    'end_date_play':'2025-06-01',\n",
    "}"
   ]
  },
  {
   "cell_type": "code",
   "execution_count": null,
   "id": "38821f08",
   "metadata": {},
   "outputs": [],
   "source": [
    "fetch_data = requests.post(url, json=data_input)"
   ]
  },
  {
   "cell_type": "code",
   "execution_count": null,
   "id": "f2186133",
   "metadata": {},
   "outputs": [],
   "source": [
    "fetch_data.content"
   ]
  },
  {
   "cell_type": "code",
   "execution_count": null,
   "id": "e277593f",
   "metadata": {},
   "outputs": [],
   "source": []
  },
  {
   "cell_type": "code",
   "execution_count": null,
   "id": "3c031e74",
   "metadata": {},
   "outputs": [],
   "source": []
  },
  {
   "cell_type": "markdown",
   "id": "b29e6d7a",
   "metadata": {},
   "source": [
    "### Test Availability Within Month"
   ]
  },
  {
   "cell_type": "code",
   "execution_count": null,
   "id": "9957fccb",
   "metadata": {},
   "outputs": [],
   "source": [
    "from datetime import datetime, timedelta\n",
    "import math\n",
    "import itertools\n"
   ]
  },
  {
   "cell_type": "code",
   "execution_count": null,
   "id": "344aff13",
   "metadata": {},
   "outputs": [],
   "source": [
    "def ceil_to_multiple(number, multiple):\n",
    "    return math.ceil(number / multiple) * multiple\n",
    "\n",
    "def floor_to_multiple(number, multiple):\n",
    "    return math.floor(number / multiple) * multiple"
   ]
  },
  {
   "cell_type": "code",
   "execution_count": null,
   "id": "a434e99c",
   "metadata": {},
   "outputs": [],
   "source": [
    "def calculate_block(start_time, end_time, interval=1):\n",
    "    duration = 0\n",
    "    play_blocks = []\n",
    "    start_time_floor = floor_to_multiple(start_time, interval)\n",
    "    end_time_ceil = ceil_to_multiple(end_time, interval)\n",
    "    while start_time_floor < end_time_ceil:\n",
    "        deduct_start = start_time - start_time_floor\n",
    "        deduct_end = end_time - start_time_floor\n",
    "\n",
    "        if deduct_start > 0 and deduct_start < interval:\n",
    "            duration = interval - deduct_start \n",
    "        elif deduct_start > 0:\n",
    "            duration =  start_time - start_time_floor\n",
    "        elif end_time_ceil < end_time:\n",
    "            duration = end_time - end_time_ceil\n",
    "        elif deduct_end < interval:\n",
    "            duration = deduct_end\n",
    "\n",
    "        else:\n",
    "            duration = interval \n",
    "        \n",
    "        play_blocks.append([start_time_floor, start_time_floor+interval, round(duration, 2)])\n",
    "        start_time_floor+=interval\n",
    "\n",
    "        \n",
    "    return play_blocks"
   ]
  },
  {
   "cell_type": "code",
   "execution_count": null,
   "id": "6fb24047",
   "metadata": {},
   "outputs": [],
   "source": [
    "data = calculate_block(6.3,9.7, 1)"
   ]
  },
  {
   "cell_type": "code",
   "execution_count": null,
   "id": "2b032bae",
   "metadata": {},
   "outputs": [],
   "source": [
    "for value in data:\n",
    "    print(value)"
   ]
  },
  {
   "cell_type": "code",
   "execution_count": null,
   "id": "0e2d0dc4",
   "metadata": {},
   "outputs": [],
   "source": [
    "def ceil_to_multiple(number, multiple):\n",
    "    return math.ceil(number / multiple) * multiple\n",
    "\n",
    "def floor_to_multiple(number, multiple):\n",
    "    return math.floor(number / multiple) * multiple"
   ]
  },
  {
   "cell_type": "code",
   "execution_count": null,
   "id": "f334e5ac",
   "metadata": {},
   "outputs": [],
   "source": [
    "class TimeCalculation:\n",
    "    def __init__(self, start_block, end_block, interval):\n",
    "        self.start_block = start_block\n",
    "        self.end_block = end_block\n",
    "        self.interval = interval\n",
    "\n",
    "    def calculate_block(self, start_time, end_time):\n",
    "        if start_time < self.start_block or end_time > self.end_block:\n",
    "            raise ValueError('Not in Opening or Closing Time!')\n",
    "        \n",
    "        time_blocks = []\n",
    "        start_interval = floor_to_multiple(start_time, self.interval)\n",
    "        end_interval = ceil_to_multiple(end_time, self.interval)\n",
    "        \n",
    "        print(start_interval, end_interval)\n",
    "\n",
    "        while start_interval < end_interval:\n",
    "            block_start = start_interval\n",
    "            block_end = start_interval + self.interval\n",
    "\n",
    "            overlap_start = max(block_start, start_time)\n",
    "            overlap_end = min(block_end, end_time)\n",
    "            duration = overlap_end - overlap_start\n",
    "            \n",
    "            time_blocks.append([max(block_start, self.start_block), min(block_end, self.end_block), round(duration, 2)])\n",
    "            start_interval += self.interval\n",
    "\n",
    "        return time_blocks\n",
    "    \n",
    "    def startup_block(self):\n",
    "        return self.calculate_block(self.start_block, self.end_block)"
   ]
  },
  {
   "cell_type": "code",
   "execution_count": null,
   "id": "09512850",
   "metadata": {},
   "outputs": [],
   "source": [
    "GreenBadminton = TimeCalculation(6,20,1)"
   ]
  },
  {
   "cell_type": "code",
   "execution_count": null,
   "id": "fbae6f78",
   "metadata": {},
   "outputs": [],
   "source": [
    "GreenBadminton.startup_block()"
   ]
  },
  {
   "cell_type": "code",
   "execution_count": null,
   "id": "2b1c1136",
   "metadata": {},
   "outputs": [],
   "source": [
    "GreenBadminton.calculate_block(14.2, 14.8)"
   ]
  },
  {
   "cell_type": "code",
   "execution_count": null,
   "id": "dc81cf1c",
   "metadata": {},
   "outputs": [],
   "source": []
  },
  {
   "cell_type": "code",
   "execution_count": null,
   "id": "4f295bc2",
   "metadata": {},
   "outputs": [],
   "source": []
  },
  {
   "cell_type": "code",
   "execution_count": null,
   "id": "d6e2105e",
   "metadata": {},
   "outputs": [],
   "source": []
  },
  {
   "cell_type": "code",
   "execution_count": null,
   "id": "4ece324c",
   "metadata": {},
   "outputs": [],
   "source": [
    "def merge_intervals(intervals):\n",
    "    if not intervals:\n",
    "        return []\n",
    "    \n",
    "    # Sort intervals based on the start value\n",
    "    sorted_intervals = sorted(intervals, key=lambda x: x[0])\n",
    "    merged = [sorted_intervals[0]]\n",
    "    \n",
    "    for current in sorted_intervals[1:]:\n",
    "        last = merged[-1]\n",
    "        if current[0] <= last[1]:\n",
    "            # Overlapping or adjacent intervals, merge them\n",
    "            new_start = last[0]\n",
    "            new_end = max(last[1], current[1])\n",
    "            merged[-1] = (new_start, new_end)\n",
    "        else:\n",
    "            merged.append(current)\n",
    "    \n",
    "    return merged\n",
    "\n",
    "# Example usage\n"
   ]
  },
  {
   "cell_type": "code",
   "execution_count": null,
   "id": "209c7a15",
   "metadata": {},
   "outputs": [],
   "source": [
    "operation_hour = (8,23)"
   ]
  },
  {
   "cell_type": "code",
   "execution_count": null,
   "id": "6323bb42",
   "metadata": {},
   "outputs": [],
   "source": [
    "def find_non_overlapping(big_start, big_end, small_lines):\n",
    "    small_lines.sort()  # Sort by start time\n",
    "    non_overlapping = []\n",
    "    current_position = big_start\n",
    "\n",
    "    for start, end in small_lines:\n",
    "        if start > current_position:\n",
    "            non_overlapping.append((current_position, start))\n",
    "        current_position = max(current_position, end)\n",
    "    \n",
    "    if current_position < big_end:\n",
    "        non_overlapping.append((current_position, big_end))\n",
    "    \n",
    "    return non_overlapping"
   ]
  },
  {
   "cell_type": "code",
   "execution_count": null,
   "id": "9727b90d",
   "metadata": {},
   "outputs": [],
   "source": [
    "occupied_slots = [(8,10), (8,12), (9,10), (9.5,11), (11,13), (12,12.1),(14.1,14.8), (15,17)]"
   ]
  },
  {
   "cell_type": "code",
   "execution_count": null,
   "id": "8601c949",
   "metadata": {},
   "outputs": [],
   "source": [
    "merged_intervals = merge_intervals(occupied_slots)\n",
    "print(merged_intervals)\n",
    "find_non_overlapping(operation_hour[0],operation_hour[1], merged_intervals)"
   ]
  },
  {
   "cell_type": "code",
   "execution_count": null,
   "id": "0c6f00f9",
   "metadata": {},
   "outputs": [],
   "source": [
    "empty_spots = find_non_overlapping(operation_hour[0],operation_hour[1], occupied_slots)\n",
    "empty_spots"
   ]
  },
  {
   "cell_type": "code",
   "execution_count": null,
   "id": "f99c3656",
   "metadata": {},
   "outputs": [],
   "source": [
    "def calculate_block(time, interval):\n",
    "    start_time = time[0]\n",
    "    end_time = time[1]\n",
    "\n",
    "    start_block = math.floor(start_time / interval) * interval\n",
    "\n",
    "    block_list = []\n",
    "    while start_block < end_time:\n",
    "        start_temp = max(start_time, start_block)\n",
    "        end_block = start_temp + interval\n",
    "        end_temp = min(end_block, end_time)\n",
    "\n",
    "        block_list.append((start_temp, end_temp))\n",
    "        start_block = end_temp\n",
    "        \n",
    "    return block_list\n",
    "    "
   ]
  },
  {
   "cell_type": "code",
   "execution_count": null,
   "id": "e6a6dc23",
   "metadata": {},
   "outputs": [],
   "source": [
    "calculate_block((6.5,22), 1.5)"
   ]
  },
  {
   "cell_type": "code",
   "execution_count": null,
   "id": "d60c272d",
   "metadata": {},
   "outputs": [],
   "source": [
    "free_slots = []\n",
    "for spot in empty_spots:\n",
    "    temp_list = calculate_block(spot, 1)\n",
    "    temp_list_flatten = temp_list\n",
    "    print(temp_list)"
   ]
  },
  {
   "cell_type": "code",
   "execution_count": null,
   "id": "bc5f8066",
   "metadata": {},
   "outputs": [],
   "source": []
  },
  {
   "cell_type": "code",
   "execution_count": null,
   "id": "3e083251",
   "metadata": {},
   "outputs": [],
   "source": [
    "import math\n",
    "from datetime import datetime\n",
    "\n",
    "\n",
    "class TimeManage:\n",
    "    def __init__(self, opening, closing, interval):\n",
    "        self.opening = opening\n",
    "        self.closing = closing\n",
    "        self.interval = interval\n",
    "        self.non_overlapping = None\n",
    "\n",
    "    def calculate_block(self, hour_vector):\n",
    "\n",
    "        start_time = hour_vector[0]\n",
    "        end_time = hour_vector[1]\n",
    "        if start_time < self.opening or end_time > self.closing:\n",
    "            raise ValueError(\"Invalid Operation Time\")\n",
    "\n",
    "        start_block = math.floor(start_time / self.interval) * self.interval\n",
    "\n",
    "        block_list = []\n",
    "        idx = 0\n",
    "        while start_block < end_time:\n",
    "            start_temp = max(start_time, start_block)\n",
    "            end_block = start_block + self.interval\n",
    "            \n",
    "            \n",
    "            end_temp = min(end_block, end_time)\n",
    "\n",
    "            block_list.append((start_temp, end_temp))\n",
    "            start_block = end_temp\n",
    "            idx+=1\n",
    "            \n",
    "        return block_list\n",
    "        \n",
    "    def startup_block(self):\n",
    "        return self.calculate_block((self.opening, self.closing))\n",
    "    \n",
    "    \n",
    "    def find_free_slots(self, small_lines):\n",
    "        small_lines.sort()\n",
    "        current_position = self.opening\n",
    "        self.non_overlapping = []\n",
    "\n",
    "        for start, end in small_lines:\n",
    "            if start > current_position:\n",
    "                self.non_overlapping.append((current_position, start))\n",
    "            current_position = max(current_position, end)\n",
    "        \n",
    "        if current_position < self.closing:\n",
    "            self.non_overlapping.append((current_position, self.closing))\n",
    "        \n",
    "        return self.non_overlapping\n",
    "    \n",
    "    def uniform_free_slots(self):\n",
    "        if self.non_overlapping is None:\n",
    "            raise ValueError(\"Run find_free_slots first to set non_overlapping!\")\n",
    "        \n",
    "        uniform_blocks = []\n",
    "        for slot in self.non_overlapping:\n",
    "            blocks = self.calculate_block(slot)\n",
    "            uniform_blocks.extend(blocks)\n",
    "        \n",
    "        return uniform_blocks"
   ]
  },
  {
   "cell_type": "code",
   "execution_count": 44,
   "id": "2fae8a70",
   "metadata": {},
   "outputs": [],
   "source": [
    "DizyBadminton = TimeManage(6,24,1.5)"
   ]
  },
  {
   "cell_type": "code",
   "execution_count": 45,
   "id": "78dc3f69",
   "metadata": {},
   "outputs": [],
   "source": [
    "booked_slots = [(11.4,11.583), (9,11)]"
   ]
  },
  {
   "cell_type": "code",
   "execution_count": 46,
   "id": "5bf84e5a",
   "metadata": {},
   "outputs": [
    {
     "data": {
      "text/plain": [
       "[(6, 7.5),\n",
       " (7.5, 9.0),\n",
       " (9.0, 10.5),\n",
       " (10.5, 12.0),\n",
       " (12.0, 13.5),\n",
       " (13.5, 15.0),\n",
       " (15.0, 16.5),\n",
       " (16.5, 18.0),\n",
       " (18.0, 19.5),\n",
       " (19.5, 21.0),\n",
       " (21.0, 22.5),\n",
       " (22.5, 24.0)]"
      ]
     },
     "execution_count": 46,
     "metadata": {},
     "output_type": "execute_result"
    }
   ],
   "source": [
    "DizyBadminton.startup_block()"
   ]
  },
  {
   "cell_type": "code",
   "execution_count": 47,
   "id": "b3750225",
   "metadata": {},
   "outputs": [
    {
     "data": {
      "text/plain": [
       "[(6, 9), (11, 11.4), (11.583, 24)]"
      ]
     },
     "execution_count": 47,
     "metadata": {},
     "output_type": "execute_result"
    }
   ],
   "source": [
    "DizyBadminton.find_free_slots(booked_slots)"
   ]
  },
  {
   "cell_type": "code",
   "execution_count": 48,
   "id": "886d9fb9",
   "metadata": {},
   "outputs": [
    {
     "name": "stdout",
     "output_type": "stream",
     "text": [
      "(6, 9)\n",
      "(11, 11.4)\n",
      "(11.583, 24)\n"
     ]
    },
    {
     "data": {
      "text/plain": [
       "[(6, 7.5),\n",
       " (7.5, 9.0),\n",
       " (11, 11.4),\n",
       " (11.583, 12.0),\n",
       " (12.0, 13.5),\n",
       " (13.5, 15.0),\n",
       " (15.0, 16.5),\n",
       " (16.5, 18.0),\n",
       " (18.0, 19.5),\n",
       " (19.5, 21.0),\n",
       " (21.0, 22.5),\n",
       " (22.5, 24.0)]"
      ]
     },
     "execution_count": 48,
     "metadata": {},
     "output_type": "execute_result"
    }
   ],
   "source": [
    "DizyBadminton.uniform_free_slots()"
   ]
  },
  {
   "cell_type": "code",
   "execution_count": null,
   "id": "0cd43bff",
   "metadata": {},
   "outputs": [],
   "source": []
  }
 ],
 "metadata": {
  "kernelspec": {
   "display_name": "base",
   "language": "python",
   "name": "python3"
  },
  "language_info": {
   "codemirror_mode": {
    "name": "ipython",
    "version": 3
   },
   "file_extension": ".py",
   "mimetype": "text/x-python",
   "name": "python",
   "nbconvert_exporter": "python",
   "pygments_lexer": "ipython3",
   "version": "3.12.4"
  }
 },
 "nbformat": 4,
 "nbformat_minor": 5
}
